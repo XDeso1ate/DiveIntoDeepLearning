{
 "cells": [
  {
   "cell_type": "code",
   "execution_count": 1,
   "metadata": {},
   "outputs": [],
   "source": [
    "%matplotlib inline\n",
    "import torch\n",
    "import torch.nn as nn\n",
    "import numpy as np\n",
    "import d2lzh_pytorch as d2l\n",
    "import sys\n",
    "sys.path.append(\"..\")\n"
   ]
  },
  {
   "cell_type": "code",
   "execution_count": 7,
   "metadata": {},
   "outputs": [],
   "source": [
    "#简洁实现\n",
    "num_inputs,num_outputs,num_hiddens1,num_hiddens2 = 784,10,256,256\n",
    "drop_prob1,drop_prob2 = 0.2,0.5\n",
    "num_epochs,lr,batch_size = 5,100.0,256\n",
    "train_iter,test_iter = d2l.load_data_fashion_mnist(batch_size)\n",
    "loss = torch.nn.CrossEntropyLoss()\n",
    "\n",
    "net = nn.Sequential(\n",
    "\td2l.FlattenLayer(),\n",
    "\tnn.Linear(num_inputs,num_hiddens1),\n",
    "\tnn.ReLU(),\n",
    "\tnn.Dropout(drop_prob1),\n",
    "\tnn.Linear(num_hiddens1,num_hiddens2),\n",
    "\tnn.ReLU(),\n",
    "\tnn.Dropout(drop_prob2),\n",
    "\tnn.Linear(num_hiddens2,num_outputs))\n",
    "for param in net.parameters():\n",
    "\tnn.init.normal_(param,mean=0,std=0.01)\n"
   ]
  },
  {
   "cell_type": "code",
   "execution_count": 8,
   "metadata": {},
   "outputs": [
    {
     "name": "stdout",
     "output_type": "stream",
     "text": [
      "epoch 1, loss 0.0045, train acc 0.556, test acc 0.735\n",
      "epoch 2, loss 0.0023, train acc 0.784, test acc 0.799\n",
      "epoch 3, loss 0.0019, train acc 0.820, test acc 0.829\n",
      "epoch 4, loss 0.0017, train acc 0.837, test acc 0.784\n",
      "epoch 5, loss 0.0016, train acc 0.847, test acc 0.842\n"
     ]
    }
   ],
   "source": [
    "#训练 测试模型\n",
    "optimizer = torch.optim.SGD(net.parameters(),lr=0.5)\n",
    "d2l.train_ch3(net,train_iter,test_iter,loss,num_epochs,batch_size,None,None,optimizer)"
   ]
  },
  {
   "cell_type": "code",
   "execution_count": null,
   "metadata": {},
   "outputs": [],
   "source": []
  }
 ],
 "metadata": {
  "kernelspec": {
   "display_name": "Python 3",
   "language": "python",
   "name": "python3"
  },
  "language_info": {
   "codemirror_mode": {
    "name": "ipython",
    "version": 3
   },
   "file_extension": ".py",
   "mimetype": "text/x-python",
   "name": "python",
   "nbconvert_exporter": "python",
   "pygments_lexer": "ipython3",
   "version": "3.7.4"
  }
 },
 "nbformat": 4,
 "nbformat_minor": 2
}
