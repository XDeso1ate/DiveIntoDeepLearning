{
 "cells": [
  {
   "cell_type": "code",
   "execution_count": 1,
   "metadata": {},
   "outputs": [],
   "source": [
    "%matplotlib inline\n",
    "import torch\n",
    "from IPython import display\n",
    "from matplotlib import pyplot as plt\n",
    "import numpy as np\n",
    "import random"
   ]
  },
  {
   "cell_type": "code",
   "execution_count": 2,
   "metadata": {},
   "outputs": [],
   "source": [
    "#生成数据集\n",
    "feature_num = 2\n",
    "sample_num = 1000\n",
    "true_w = [2,-3.4]\n",
    "true_b = 4.2\n",
    "features = torch.tensor(np.random.normal(0,1,(sample_num,feature_num)),dtype=torch.float)\n",
    "labels = true_w[0] * features[:,0] + true_w[1] * features[:,1] + true_b\n",
    "labels += torch.tensor(np.random.normal(0,0.01,size=labels.size()),dtype=torch.float)\n",
    "#print(features,labels)"
   ]
  },
  {
   "cell_type": "code",
   "execution_count": 3,
   "metadata": {},
   "outputs": [
    {
     "name": "stdout",
     "output_type": "stream",
     "text": [
      "tensor([[-0.4390,  1.1119],\n",
      "        [-0.8313, -1.2455],\n",
      "        [-0.5052,  0.6056],\n",
      "        [ 2.0362, -0.3696],\n",
      "        [ 1.1511, -1.0748],\n",
      "        [-1.0065, -1.1541],\n",
      "        [-0.2085,  0.6747],\n",
      "        [ 0.7455,  1.5894],\n",
      "        [ 0.7679, -1.1447],\n",
      "        [ 0.7240, -0.9364]]) tensor([-0.4584,  6.7666,  1.1268,  9.4984, 10.1507,  6.0910,  1.5085,  0.2764,\n",
      "         9.6165,  8.8296])\n"
     ]
    }
   ],
   "source": [
    "#读取数据\n",
    "import torch.utils.data as Data\n",
    "batch_size = 10\n",
    "\n",
    "dataset = Data.TensorDataset(features,labels)\n",
    "data_iter = Data.DataLoader(dataset,batch_size,shuffle=True)\n",
    "\n",
    "for X,y in data_iter:\n",
    "    print(X,y)\n",
    "    break"
   ]
  },
  {
   "cell_type": "code",
   "execution_count": 5,
   "metadata": {},
   "outputs": [
    {
     "name": "stdout",
     "output_type": "stream",
     "text": [
      "LinearRegression(\n",
      "  (linear): Linear(in_features=2, out_features=1, bias=True)\n",
      ")\n"
     ]
    }
   ],
   "source": [
    "#定义模型\n",
    "from torch import nn\n",
    "class LinearRegression(nn.Module):\n",
    "    def __init__(self,n_feature):\n",
    "        super(LinearRegression,self).__init__()\n",
    "        self.linear = nn.Linear(n_feature,1)\n",
    "    def forward(self,x):\n",
    "        y = self.linear(x)\n",
    "        return y\n",
    "\n",
    "net = LinearRegression(feature_num)\n",
    "print(net)"
   ]
  },
  {
   "cell_type": "code",
   "execution_count": 7,
   "metadata": {},
   "outputs": [
    {
     "name": "stdout",
     "output_type": "stream",
     "text": [
      "Sequential(\n",
      "  (0): Linear(in_features=2, out_features=1, bias=True)\n",
      ")\n",
      "Linear(in_features=2, out_features=1, bias=True)\n"
     ]
    }
   ],
   "source": [
    "#用nn.sequential\n",
    "net2 = nn.Sequential(\n",
    "    nn.Linear(feature_num,1)\n",
    ")\n",
    "print(net2)\n",
    "print(net2[0])"
   ]
  },
  {
   "cell_type": "code",
   "execution_count": 8,
   "metadata": {},
   "outputs": [
    {
     "name": "stdout",
     "output_type": "stream",
     "text": [
      "Parameter containing:\n",
      "tensor([[-0.4245,  0.1204]], requires_grad=True)\n",
      "Parameter containing:\n",
      "tensor([-0.3449], requires_grad=True)\n"
     ]
    }
   ],
   "source": [
    "#通过net.parameters()查看可学习参数，函数返回一个生成器\n",
    "for param in net.parameters():\n",
    "    print(param)"
   ]
  },
  {
   "cell_type": "code",
   "execution_count": null,
   "metadata": {},
   "outputs": [],
   "source": [
    "#torch.nn仅支持输入一个batch的样本，不支持单个样本输入"
   ]
  },
  {
   "cell_type": "code",
   "execution_count": 13,
   "metadata": {},
   "outputs": [
    {
     "data": {
      "text/plain": [
       "Parameter containing:\n",
       "tensor([0.], requires_grad=True)"
      ]
     },
     "execution_count": 13,
     "metadata": {},
     "output_type": "execute_result"
    }
   ],
   "source": [
    "#初始化模型参数\n",
    "from torch.nn import init\n",
    "init.normal_(net2[0].weight,mean=0,std=0.01)\n",
    "init.constant_(net2[0].bias,val=0)\n"
   ]
  },
  {
   "cell_type": "code",
   "execution_count": 14,
   "metadata": {},
   "outputs": [],
   "source": [
    "#定义损失函数\n",
    "loss = nn.MSELoss()"
   ]
  },
  {
   "cell_type": "code",
   "execution_count": 20,
   "metadata": {},
   "outputs": [
    {
     "name": "stdout",
     "output_type": "stream",
     "text": [
      "SGD (\n",
      "Parameter Group 0\n",
      "    dampening: 0\n",
      "    lr: 0.03\n",
      "    momentum: 0\n",
      "    nesterov: False\n",
      "    weight_decay: 0\n",
      ")\n"
     ]
    }
   ],
   "source": [
    "#定义优化算法\n",
    "import torch.optim as optim\n",
    "optimizer = optim.SGD(net2.parameters(),lr=0.03)\n",
    "print(optimizer)"
   ]
  },
  {
   "cell_type": "code",
   "execution_count": 21,
   "metadata": {},
   "outputs": [],
   "source": [
    "#可以为子网络设置不同的学习率，example:\n",
    "#optimizer = optim.SGD([\n",
    "#    {'params':net.subnet1.parameters()},\n",
    "#   {'params':net.subnet2.parameters(),'lr':0.01}\n",
    "#],lr=0.03)\n",
    "#如果没有指定学习率，就使用最外层的默认学习率"
   ]
  },
  {
   "cell_type": "code",
   "execution_count": 22,
   "metadata": {},
   "outputs": [],
   "source": [
    "#需要调整学习率时\n",
    "#for param_group in optimizer.param_groups:\n",
    "#    param_group['lr'] *= 0.1"
   ]
  },
  {
   "cell_type": "code",
   "execution_count": 30,
   "metadata": {},
   "outputs": [
    {
     "name": "stdout",
     "output_type": "stream",
     "text": [
      "epoch 1, loss: 0.000192\n",
      "Parameter containing:\n",
      "tensor([4.1925], requires_grad=True)\n",
      "epoch 2, loss: 0.000092\n",
      "Parameter containing:\n",
      "tensor([4.2003], requires_grad=True)\n",
      "epoch 3, loss: 0.000112\n",
      "Parameter containing:\n",
      "tensor([4.2004], requires_grad=True)\n"
     ]
    }
   ],
   "source": [
    "#训练模型\n",
    "num_epochs = 3\n",
    "for epoch in range(1,num_epochs+1):\n",
    "    for X,y in data_iter:\n",
    "        output = net2(X)\n",
    "        l = loss(output,y.view(-1,1))\n",
    "        optimizer.zero_grad()\n",
    "        l.backward()\n",
    "        optimizer.step()\n",
    "    print('epoch %d, loss: %f' % (epoch, l.item()))\n",
    "    print(net2[0].bias)"
   ]
  },
  {
   "cell_type": "code",
   "execution_count": 31,
   "metadata": {},
   "outputs": [
    {
     "name": "stdout",
     "output_type": "stream",
     "text": [
      "[2, -3.4] Parameter containing:\n",
      "tensor([[ 2.0001, -3.3989]], requires_grad=True)\n",
      "4.2 Parameter containing:\n",
      "tensor([4.2004], requires_grad=True)\n"
     ]
    }
   ],
   "source": [
    "dense = net2[0]\n",
    "print(true_w, dense.weight)\n",
    "print(true_b, dense.bias)"
   ]
  },
  {
   "cell_type": "code",
   "execution_count": null,
   "metadata": {},
   "outputs": [],
   "source": []
  }
 ],
 "metadata": {
  "kernelspec": {
   "display_name": "Python 3",
   "language": "python",
   "name": "python3"
  },
  "language_info": {
   "codemirror_mode": {
    "name": "ipython",
    "version": 3
   },
   "file_extension": ".py",
   "mimetype": "text/x-python",
   "name": "python",
   "nbconvert_exporter": "python",
   "pygments_lexer": "ipython3",
   "version": "3.7.4"
  }
 },
 "nbformat": 4,
 "nbformat_minor": 2
}
