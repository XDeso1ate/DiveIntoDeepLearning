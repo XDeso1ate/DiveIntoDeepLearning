{
 "cells": [
  {
   "cell_type": "code",
   "execution_count": 1,
   "metadata": {},
   "outputs": [],
   "source": [
    "%matplotlib inline\n",
    "import torch\n",
    "import torch.nn as nn\n",
    "import numpy as np\n",
    "import sys\n",
    "sys.path.append(\"..\")\n",
    "import d2lzh_pytorch as d2l"
   ]
  },
  {
   "cell_type": "code",
   "execution_count": 2,
   "metadata": {},
   "outputs": [],
   "source": [
    "def dropout(X,drop_prob):\n",
    "\tX = X.float()\n",
    "\tassert 0 <= drop_prob <= 1\n",
    "\tkeep_prob = 1 - drop_prob\n",
    "\tif keep_prob == 0:\n",
    "\t\treturn torch.zeros_like(X)\n",
    "\tmask = (torch.randn(X.shape) < keep_prob).float()\n",
    "\t\n",
    "\treturn mask * X / keep_prob"
   ]
  },
  {
   "cell_type": "code",
   "execution_count": 3,
   "metadata": {},
   "outputs": [
    {
     "data": {
      "text/plain": [
       "tensor([[ 0.,  1.,  2.,  3.,  4.,  5.,  6.,  0.],\n",
       "        [ 8.,  9., 10., 11., 12., 13., 14., 15.]])"
      ]
     },
     "execution_count": 3,
     "metadata": {},
     "output_type": "execute_result"
    }
   ],
   "source": [
    "#test\n",
    "X = torch.arange(16).view(2,8)\n",
    "dropout(X,0)\n"
   ]
  },
  {
   "cell_type": "code",
   "execution_count": 4,
   "metadata": {},
   "outputs": [
    {
     "data": {
      "text/plain": [
       "tensor([[ 0.,  2.,  0.,  6.,  8.,  0., 12., 14.],\n",
       "        [16., 18., 20., 22., 24., 26.,  0., 30.]])"
      ]
     },
     "execution_count": 4,
     "metadata": {},
     "output_type": "execute_result"
    }
   ],
   "source": [
    "dropout(X,0.5)\n"
   ]
  },
  {
   "cell_type": "code",
   "execution_count": 5,
   "metadata": {},
   "outputs": [
    {
     "data": {
      "text/plain": [
       "tensor([[0., 0., 0., 0., 0., 0., 0., 0.],\n",
       "        [0., 0., 0., 0., 0., 0., 0., 0.]])"
      ]
     },
     "execution_count": 5,
     "metadata": {},
     "output_type": "execute_result"
    }
   ],
   "source": [
    "dropout(X,1.0)"
   ]
  },
  {
   "cell_type": "code",
   "execution_count": 6,
   "metadata": {},
   "outputs": [],
   "source": [
    "#定义模型参数\n",
    "num_inputs,num_outputs,num_hiddens1,num_hiddens2 = 784,10,256,256\n",
    "W1 = torch.tensor(np.random.normal(0,0.01,size=(num_inputs,num_hiddens1)),\n",
    "\tdtype = torch.float,requires_grad=True)\n",
    "b1 = torch.zeros(num_hiddens1,requires_grad=True)\n",
    "\n",
    "W2 = torch.tensor(np.random.normal(0,0.01,size=(num_hiddens1,num_hiddens2)),\n",
    "    dtype = torch.float,requires_grad=True)\n",
    "b2 = torch.zeros(num_hiddens2,requires_grad=True)\n",
    "\n",
    "W3 = torch.tensor(np.random.normal(0, 0.01, size=(num_hiddens2,num_outputs)), \n",
    "    dtype=torch.float, requires_grad=True)\n",
    "b3 = torch.zeros(num_outputs,requires_grad=True)\n",
    "\n",
    "params = [W1,b1,W2,b2,W3,b3]"
   ]
  },
  {
   "cell_type": "code",
   "execution_count": 7,
   "metadata": {},
   "outputs": [],
   "source": [
    "#定义模型\n",
    "drop_prob1,drop_prob2 = 0.2,0.5\n",
    "\n",
    "def net(X,is_training=True):\n",
    "\tX = X.view(-1,num_inputs)\n",
    "\tH1 = (torch.matmul(X,W1) + b1).relu()\n",
    "\tif is_training:\n",
    "\t\tH1 = dropout(H1,drop_prob1)\n",
    "\tH2 = (torch.matmul(H1,W2) + b2).relu()\n",
    "\tif is_training:\n",
    "\t\tH2 = dropout(H2,drop_prob2)\n",
    "\treturn torch.matmul(H2,W3) + b3"
   ]
  },
  {
   "cell_type": "code",
   "execution_count": 8,
   "metadata": {},
   "outputs": [
    {
     "name": "stdout",
     "output_type": "stream",
     "text": [
      "epoch 1, loss 0.0045, train acc 0.548, test acc 0.659\n",
      "epoch 2, loss 0.0023, train acc 0.780, test acc 0.775\n",
      "epoch 3, loss 0.0019, train acc 0.823, test acc 0.815\n",
      "epoch 4, loss 0.0017, train acc 0.839, test acc 0.847\n",
      "epoch 5, loss 0.0016, train acc 0.851, test acc 0.847\n"
     ]
    }
   ],
   "source": [
    "#训练和测试模型\n",
    "num_epochs,lr,batch_size = 5,100.0,256\n",
    "loss = torch.nn.CrossEntropyLoss()\n",
    "train_iter,test_iter = d2l.load_data_fashion_mnist(batch_size)\n",
    "d2l.train_ch3(net,train_iter,test_iter,loss,num_epochs,batch_size,params,lr)"
   ]
  },
  {
   "cell_type": "code",
   "execution_count": null,
   "metadata": {},
   "outputs": [],
   "source": []
  }
 ],
 "metadata": {
  "kernelspec": {
   "display_name": "Python 3",
   "language": "python",
   "name": "python3"
  },
  "language_info": {
   "codemirror_mode": {
    "name": "ipython",
    "version": 3
   },
   "file_extension": ".py",
   "mimetype": "text/x-python",
   "name": "python",
   "nbconvert_exporter": "python",
   "pygments_lexer": "ipython3",
   "version": "3.7.4"
  }
 },
 "nbformat": 4,
 "nbformat_minor": 2
}
